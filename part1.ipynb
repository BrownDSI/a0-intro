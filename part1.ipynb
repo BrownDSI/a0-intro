{
 "cells": [
  {
   "cell_type": "markdown",
   "metadata": {
    "nbgrader": {
     "grade": false,
     "grade_id": "cell-6878865658774ef3",
     "locked": true,
     "schema_version": 1,
     "solution": false
    }
   },
   "source": [
    "# Lab 1: Introduction to Data Science\n",
    "\n",
    "Due: Thursday, September 7 at 2 pm\n",
    "\n",
    "## Today's Goals:\n",
    "\n",
    "* Familarize yourself with Jupyter Notebook and  _pandas_\n",
    "* Begin thinking like a data scientist\n",
    "* Start seeing and writing maintainable code\n",
    "\n",
    "## Motivation\n",
    "\n",
    "Data scientists everywhere now use Jupyter Notebook to explore data and share results. _pandas_ is the go-to Python library for data analysis. Knowing these tools well will not only help you succeed in this course, but also with wrangling any data that you may come across in the future.\n",
    "\n",
    "## Grading\n",
    "\n",
    "The tasks in this assignment will be graded for completion by the eye test. Don't worry about being any more precise than we ask. Do worry about learning _pandas_ well though. We will use it a lot!\n",
    "\n",
    "## Part 0: Getting started with Jupyter Notebook\n",
    "\n",
    "Begin by touring the Notebook UI. Click on __Help__ > __User Interface Tour__ in the toolbar above to begin.\n",
    "\n",
    "You can also reference this GIF from DataCamp, to get a basic understanding of how to use the notebook.\n",
    "<img alt=\"Overview of the Jupyter Interface\" src=\"http://community.datacamp.com.s3.amazonaws.com/community/production/ckeditor_assets/pictures/200/content_jupyternotebook3b.gif\" style=\"width: 800px; height: 279px;\">\n",
    "\n",
    "In Jupyter Notebook, you can write and run Python cells as if you were in a Python Interpreter. In addition, you can structure your code in modular cells and run all the cells as if the notebook were a .py script.\n",
    "\n",
    "Finally, you can also create and run Markdown cells like this one. Try double clicking on this cell and then running it. See the instructions above and right below for more details on running cells\n",
    "\n",
    "## Part 1: Exploring Data with DataFrames\n",
    "\n",
    "Congratulations, you have gotten the notebook to run. Run the cell below by first clicking on the cell below, and the clicking the run button (>|) on the toolbar above. It should print \"Hello!\""
   ]
  },
  {
   "cell_type": "code",
   "execution_count": null,
   "metadata": {
    "collapsed": true,
    "nbgrader": {
     "grade": false,
     "grade_id": "cell-da036e6f2b1a9761",
     "locked": true,
     "schema_version": 1,
     "solution": false
    }
   },
   "outputs": [],
   "source": [
    "import pandas\n",
    "print(\"Hello!\")"
   ]
  },
  {
   "cell_type": "markdown",
   "metadata": {
    "nbgrader": {
     "grade": false,
     "grade_id": "cell-8ba97fa6cfaa7427",
     "locked": true,
     "schema_version": 1,
     "solution": false
    }
   },
   "source": [
    "### 1.0 Contextualizing data\n",
    "\n",
    "The first dataset we will be looking at relates to youth unemployment. Go [here](https://www.kaggle.com/sovannt/world-bank-youth-unemployment) and scroll down to the dataset description for more details. What is their definition of youth? What years are we looking at?\n",
    "\n",
    "### 1.1 Reading data\n",
    "\n",
    "Data is often stored in comma-separated values (CSV) files. We have downloaded the unemployment data into the file `API_ILO_country_YU.csv` for you.\n",
    "\n",
    "To read a CSV file called `my_data.csv` with pandas we would run the following command\n",
    "```\n",
    "pandas.read_csv('my_data.csv')\n",
    "```\n",
    "\n",
    "__Task 1:__ Load the unemployment data in the above file to a variable called `dataframe` below. If no error shows up, your DataFrame most likely has loaded."
   ]
  },
  {
   "cell_type": "code",
   "execution_count": null,
   "metadata": {
    "collapsed": true,
    "nbgrader": {
     "grade": true,
     "grade_id": "cell-4d6ca01abde093d1",
     "locked": false,
     "points": 0,
     "schema_version": 1,
     "solution": true
    }
   },
   "outputs": [],
   "source": [
    "# TASK 1\n",
    "dataframe = "
   ]
  },
  {
   "cell_type": "markdown",
   "metadata": {
    "nbgrader": {
     "grade": false,
     "grade_id": "cell-d2d9d36323e8edeb",
     "locked": true,
     "schema_version": 1,
     "solution": false
    }
   },
   "source": [
    "### 1.2 Viewing data\n",
    "\n",
    "Congrats. You've successfully loaded the data into an object called a `DataFrame`.\n",
    "\n",
    "Run each of these `DataFrame` methods in the cell below one-at-a-time. What do they do?\n",
    "\n",
    "    dataframe\n",
    "    dataframe.columns\n",
    "    dataframe.head()\n",
    "    dataframe.head(10)\n",
    "    dataframe.tail(4)\n",
    "    dataframe.nlargest(5, '2014')\n",
    "    dataframe.nsmallest(8, '2011')\n",
    "    \n",
    "What get printed if you run 2 expressions in the same block?"
   ]
  },
  {
   "cell_type": "code",
   "execution_count": null,
   "metadata": {
    "collapsed": true,
    "nbgrader": {
     "grade": true,
     "grade_id": "cell-97fab88d45eccfc4",
     "locked": false,
     "points": 0,
     "schema_version": 1,
     "solution": true
    },
    "scrolled": false
   },
   "outputs": [],
   "source": [
    "# Run the methods here\n",
    "dataframe"
   ]
  },
  {
   "cell_type": "markdown",
   "metadata": {},
   "source": [
    "Now that you know what these functions do, complete the following task.\n",
    "\n",
    "__Task 2:__ Show the 12 countries with the highest unemployment rates in 2013."
   ]
  },
  {
   "cell_type": "code",
   "execution_count": null,
   "metadata": {
    "collapsed": true
   },
   "outputs": [],
   "source": [
    "# TASK 2"
   ]
  },
  {
   "cell_type": "markdown",
   "metadata": {},
   "source": [
    "### 1.3 Transforming data\n",
    "\n",
    "With DataFrames we can also do things like select\n",
    "rows and columns. What do the following expressions\n",
    "evaluate to?\n",
    "\n",
    "#### Column selection:\n",
    "    \n",
    "    dataframe['2010']\n",
    "    dataframe[['Country Name', '2011', '2012']]\n",
    "    dataframe.iloc[:, 3] # Gets all the rows in the 4th column\n",
    "    dataframe.iloc[:, 2:5]\n",
    "    \n",
    "#### Row selection:\n",
    "    \n",
    "    dataframe.iloc[191] # Gets the 192nd row\n",
    "    dataframe.iloc[2:10]\n",
    "    dataframe[dataframe['2010'] > 40]\n",
    "    \n",
    "#### Combinations:\n",
    "\n",
    "    dataframe.iloc[12:14, 0:4]\n",
    "    dataframe[['Country Name', '2011', '2012']][dataframe['2012'] < 10]\n",
    "    dataframe[dataframe['2012'] < 10].iloc[1:3, 2:5]"
   ]
  },
  {
   "cell_type": "code",
   "execution_count": null,
   "metadata": {
    "collapsed": true,
    "scrolled": true
   },
   "outputs": [],
   "source": [
    "# Run the expressions here"
   ]
  },
  {
   "cell_type": "markdown",
   "metadata": {},
   "source": [
    "__TA Check 1__: Raise your hand and a TA will come over to check your understanding of the above commands."
   ]
  },
  {
   "cell_type": "markdown",
   "metadata": {
    "nbgrader": {
     "grade": false,
     "grade_id": "cell-9b42e843dc7c7b9b",
     "locked": true,
     "schema_version": 1,
     "solution": false
    }
   },
   "source": [
    "__Task 3:__ Show the `Country Name` and `Country Code` of all countries where\n",
    "\n",
    "* the 2010 unemployment rate is higher than the 2014 unemployment rate, and\n",
    "* the 2014 unemployment rate is above 20%"
   ]
  },
  {
   "cell_type": "code",
   "execution_count": null,
   "metadata": {
    "collapsed": true,
    "nbgrader": {
     "grade": true,
     "grade_id": "cell-b4a15d9099e5b78b",
     "locked": false,
     "points": 0,
     "schema_version": 1,
     "solution": true
    }
   },
   "outputs": [],
   "source": [
    "# TASK 3"
   ]
  },
  {
   "cell_type": "markdown",
   "metadata": {
    "nbgrader": {
     "grade": false,
     "grade_id": "cell-37805ad1a707bcf1",
     "locked": true,
     "schema_version": 1,
     "solution": false
    }
   },
   "source": [
    "Now it is time to see more powerful features of DataFrames.\n",
    "You can add, subtract, multiply, and divide columns as shown below\n",
    "\n",
    "`dataframe['2010'] + dataframe['2012']`\n",
    "\n",
    "You can add a new column to the dataframe using the following syntax:\n",
    "\n",
    "`dataframe['new_col'] = dataframe['2010'] + dataframe['2012']`\n",
    "\n",
    "__Task 4:__ Display the names of the 10 countries with the smallest decrease in unemployment between 2011 and 2012."
   ]
  },
  {
   "cell_type": "code",
   "execution_count": null,
   "metadata": {
    "collapsed": true,
    "nbgrader": {
     "grade": true,
     "grade_id": "cell-f077052c551ba443",
     "locked": false,
     "points": 0,
     "schema_version": 1,
     "solution": true
    }
   },
   "outputs": [],
   "source": [
    "# TASK 4"
   ]
  },
  {
   "cell_type": "markdown",
   "metadata": {
    "nbgrader": {
     "grade": false,
     "grade_id": "cell-5bc2840af935ee54",
     "locked": true,
     "schema_version": 1,
     "solution": false
    }
   },
   "source": [
    "### 1.4 Visualizing data\n",
    "\n",
    "Our eyes are great at seeing patterns. Let's make some graphs to visualize and better understand the data. Run the code block below."
   ]
  },
  {
   "cell_type": "code",
   "execution_count": null,
   "metadata": {
    "collapsed": true,
    "nbgrader": {
     "grade": false,
     "grade_id": "cell-4e7ba363af0cebd7",
     "locked": true,
     "schema_version": 1,
     "solution": false
    }
   },
   "outputs": [],
   "source": [
    "# Make sure to run the below \"magic\" command in future labs so your visualizations show up in the browser.\n",
    "%matplotlib inline\n",
    "\n",
    "dataframe.plot(kind='bar')"
   ]
  },
  {
   "cell_type": "markdown",
   "metadata": {
    "nbgrader": {
     "grade": false,
     "grade_id": "cell-335784ab93847746",
     "locked": true,
     "schema_version": 1,
     "solution": false
    }
   },
   "source": [
    "__Task 5:__ There's clearly too many rows being graphed. In a new bar chart below, show only the first 10 countries, bars corresponding to the years 2010 to 2014 and label the x-axis by country name.\n",
    "\n",
    "Read [`pandas.DataFrame.plot`](https://pandas.pydata.org/pandas-docs/stable/generated/pandas.DataFrame.plot.html)\n",
    "for information on how to do the above task."
   ]
  },
  {
   "cell_type": "code",
   "execution_count": null,
   "metadata": {
    "collapsed": true,
    "nbgrader": {
     "grade": true,
     "grade_id": "cell-4bc553bc304deeeb",
     "locked": false,
     "points": 0,
     "schema_version": 1,
     "solution": true
    }
   },
   "outputs": [],
   "source": [
    "# TASK 5"
   ]
  },
  {
   "cell_type": "markdown",
   "metadata": {},
   "source": [
    "__Task 6:__ Use the `.plot` method again to see how unemployment in 2010 relates to unemployment in 2014 for each country.\n",
    "\n",
    "Hint: What kind of chart would you use?"
   ]
  },
  {
   "cell_type": "code",
   "execution_count": null,
   "metadata": {
    "collapsed": true
   },
   "outputs": [],
   "source": [
    "# TASK 6"
   ]
  },
  {
   "cell_type": "markdown",
   "metadata": {
    "nbgrader": {
     "grade": false,
     "grade_id": "cell-e4126b30b2a3099d",
     "locked": true,
     "schema_version": 1,
     "solution": false
    }
   },
   "source": [
    "### 1.5 Exploring data independently\n",
    "\n",
    "__Task 7-10:__ Use any combination of the above techniques and others (like writing) to solidly answer the 5 questions below. Use your cheat sheet and the [docs](http://pandas.pydata.org/pandas-docs/stable/) aid you.\n",
    "\n",
    "Do comment about any ambiguities and issues you have with the question statement or your solution to the problem in the corresponding Python block."
   ]
  },
  {
   "cell_type": "markdown",
   "metadata": {
    "nbgrader": {
     "grade": false,
     "grade_id": "cell-b38df8872126442c",
     "locked": true,
     "schema_version": 1,
     "solution": false
    }
   },
   "source": [
    "_What is the average unemployment rate for each year?_"
   ]
  },
  {
   "cell_type": "code",
   "execution_count": null,
   "metadata": {
    "collapsed": true,
    "nbgrader": {
     "grade": true,
     "grade_id": "cell-697a780fdb78d20c",
     "locked": false,
     "points": 0,
     "schema_version": 1,
     "solution": true
    }
   },
   "outputs": [],
   "source": [
    "# <-- Start the line with a \"hashtag\" to write comments in Python"
   ]
  },
  {
   "cell_type": "markdown",
   "metadata": {
    "nbgrader": {
     "grade": false,
     "grade_id": "cell-6a88558ae43d5264",
     "locked": true,
     "schema_version": 1,
     "solution": false
    }
   },
   "source": [
    "_Which countries underwent the greatest increase in unemployment during this time?_"
   ]
  },
  {
   "cell_type": "code",
   "execution_count": null,
   "metadata": {
    "collapsed": true,
    "nbgrader": {
     "grade": true,
     "grade_id": "cell-1bf45dd04223c09f",
     "locked": false,
     "points": 0,
     "schema_version": 1,
     "solution": true
    }
   },
   "outputs": [],
   "source": []
  },
  {
   "cell_type": "markdown",
   "metadata": {
    "nbgrader": {
     "grade": false,
     "grade_id": "cell-47bf846a696adf8b",
     "locked": true,
     "schema_version": 1,
     "solution": false
    }
   },
   "source": [
    "_In which countries would you not recommend a 20-year-old try to find a job?_"
   ]
  },
  {
   "cell_type": "code",
   "execution_count": null,
   "metadata": {
    "collapsed": true,
    "nbgrader": {
     "grade": true,
     "grade_id": "cell-44ca533d1237b0aa",
     "locked": false,
     "points": 0,
     "schema_version": 1,
     "solution": true
    }
   },
   "outputs": [],
   "source": []
  },
  {
   "cell_type": "markdown",
   "metadata": {
    "nbgrader": {
     "grade": false,
     "grade_id": "cell-bb5b36780309825b",
     "locked": true,
     "schema_version": 1,
     "solution": false
    }
   },
   "source": [
    "_Do you think Arab Springs caused youth unemployment or youth unemployment led to Arab Springs?_"
   ]
  },
  {
   "cell_type": "code",
   "execution_count": null,
   "metadata": {
    "collapsed": true,
    "nbgrader": {
     "grade": true,
     "grade_id": "cell-5fa18ccbffa5b11e",
     "locked": false,
     "points": 0,
     "schema_version": 1,
     "solution": true
    }
   },
   "outputs": [],
   "source": []
  },
  {
   "cell_type": "markdown",
   "metadata": {
    "nbgrader": {
     "grade": false,
     "grade_id": "cell-8eda21791e0c8ff0",
     "locked": true,
     "schema_version": 1,
     "solution": false
    }
   },
   "source": [
    "__TA Check 2:__ When you are ready, a TA will come over to review your work.\n",
    "\n",
    "### 1.6 Foreshadowing\n",
    "\n",
    "With a partner reflect on this first analysis by answering these questions.\n",
    "\n",
    "1. How do you think the data was collected? How could this have led you to wrong insights?\n",
    "2. Did you think that the data could be structured better? Were all of the strings in the country name column actually countries?\n",
    "3. Did you ever feel like you needed to make your code run faster? In what scenario would you try to optimize code execution time?\n",
    "4. How could you analyze this data more in depth. Would you want to create an interpretable model or an accurate model?\n",
    "5. What would you do if you needed to share your work with others? How would you make your code more readable to another data scientist?"
   ]
  },
  {
   "cell_type": "markdown",
   "metadata": {},
   "source": [
    "## Summary\n",
    "\n",
    "In today's lab we learned how to use _pandas_ in Jupyter Notebook through data analysis. We went through the entire process of processing the data to doing some basic analysis.\n",
    "\n",
    "Here is a summary of the _pandas_ functions we used today.\n",
    "\n",
    "### Pandas\n",
    "\n",
    "#### Modules\n",
    "\n",
    "    import pandas as pd\n",
    "\n",
    "#### I/O\n",
    "\n",
    "    pd.read_csv()\n",
    "    df.to_csv()\n",
    "\n",
    "#### Indexing\n",
    "\n",
    "    df[column_name]\n",
    "    df[[column1, column2, ...]]\n",
    "    df.iloc[a:b,c:d]\n",
    "    df[boolean condition]\n",
    "\n",
    "#### Exploration\n",
    "\n",
    "    df.describe()\n",
    "    df.plot()"
   ]
  },
  {
   "cell_type": "markdown",
   "metadata": {},
   "source": [
    "## Hand In\n",
    "\n",
    "Push all of your changes to your Github fork."
   ]
  },
  {
   "cell_type": "markdown",
   "metadata": {
    "nbgrader": {
     "grade": false,
     "grade_id": "cell-a50b2c1c2180da1b",
     "locked": true,
     "schema_version": 1,
     "solution": false
    }
   },
   "source": [
    "## (Optional) Part 2\n",
    "If you have time, try out Part 2, an analysis of a shopping dataset with 3 million rows from Instacart, a grocery delivering start up. Instructions are in the notebook `part2.ipynb`."
   ]
  }
 ],
 "metadata": {
  "celltoolbar": "Raw Cell Format",
  "kernelspec": {
   "display_name": "Python 3",
   "language": "python",
   "name": "python3"
  },
  "language_info": {
   "codemirror_mode": {
    "name": "ipython",
    "version": 3
   },
   "file_extension": ".py",
   "mimetype": "text/x-python",
   "name": "python",
   "nbconvert_exporter": "python",
   "pygments_lexer": "ipython3",
   "version": "3.6.2"
  }
 },
 "nbformat": 4,
 "nbformat_minor": 2
}
