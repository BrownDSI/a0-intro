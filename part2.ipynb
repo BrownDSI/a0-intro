{
 "cells": [
  {
   "cell_type": "markdown",
   "metadata": {},
   "source": [
    "## Part 2: Instacart Orders\n",
    "\n",
    "Instacart is a startup in the grocery delivery business. It uses machine learning to personalize its web application. Download the 3 million row dataset from the link here: https://www.instacart.com/datasets/grocery-shopping-2017.\n",
    "\n",
    "Then move the compressed file to this directory and then unzip it."
   ]
  },
  {
   "cell_type": "code",
   "execution_count": null,
   "metadata": {
    "collapsed": true
   },
   "outputs": [],
   "source": [
    "import pandas as pd"
   ]
  },
  {
   "cell_type": "markdown",
   "metadata": {},
   "source": [
    "__Task 11:__ The data is in a folder called `instacart_2017_05_01/`. Without moving any of the files, load the data in `orders.csv` to a dataframe."
   ]
  },
  {
   "cell_type": "code",
   "execution_count": null,
   "metadata": {
    "scrolled": true
   },
   "outputs": [],
   "source": []
  },
  {
   "cell_type": "markdown",
   "metadata": {},
   "source": [
    "Most spreadsheet viewers do not allow you to view so much data. Excel can still help, but you'll need _pandas_ to analyze this data.\n",
    "\n",
    "__Task 12:__ What does the `.describe()` method tell us about the dataset? Do people order earlier or later during the week?"
   ]
  },
  {
   "cell_type": "code",
   "execution_count": null,
   "metadata": {},
   "outputs": [],
   "source": []
  },
  {
   "cell_type": "markdown",
   "metadata": {},
   "source": [
    "__Task 13:__ How many rows contain null values?"
   ]
  },
  {
   "cell_type": "code",
   "execution_count": null,
   "metadata": {},
   "outputs": [],
   "source": []
  },
  {
   "cell_type": "markdown",
   "metadata": {},
   "source": [
    "__Extra Task:__ Can you figure out what people are eating at different times of the week? Or how people with different order sizes eat differently? Analyze the data and learn something about how others order food online.\n",
    "\n",
    "See if you can try out every operation on the _pandas_ cheat sheet. Figuring out the `.groupby` and `.merge` methods will give you"
   ]
  },
  {
   "cell_type": "code",
   "execution_count": null,
   "metadata": {
    "collapsed": true
   },
   "outputs": [],
   "source": []
  }
 ],
 "metadata": {
  "kernelspec": {
   "display_name": "Python 3",
   "language": "python",
   "name": "python3"
  },
  "language_info": {
   "codemirror_mode": {
    "name": "ipython",
    "version": 3
   },
   "file_extension": ".py",
   "mimetype": "text/x-python",
   "name": "python",
   "nbconvert_exporter": "python",
   "pygments_lexer": "ipython3",
   "version": "3.6.2"
  }
 },
 "nbformat": 4,
 "nbformat_minor": 2
}
