{
 "cells": [
  {
   "cell_type": "markdown",
   "metadata": {
    "nbgrader": {
     "grade": false,
     "grade_id": "cell-463c5c889460b7d4",
     "locked": true,
     "schema_version": 1,
     "solution": false
    }
   },
   "source": [
    "# Lab 0.1: Introduction to Git, Jupyter and Pandas\n",
    "\n",
    "\n",
    "## Today's Goals:\n",
    "\n",
    "* Familiarize yourself with Git, Jupyter Notebook and  _pandas_\n",
    "* Begin thinking like a data scientist\n",
    "\n",
    "\n",
    "## Motivation\n",
    "\n",
    "Data scientists everywhere now use Jupyter Notebook to explore data and share results. _pandas_ is the go-to Python library for data analysis. Knowing these tools well will not only help you succeed in this course, but also with wrangling any data that you may come across in the future.\n",
    "\n",
    "## Outcomes\n",
    "\n",
    "By the end of this lab, you will have the basic skillset to do data analysis with Python. You will be able to load, visualize, and analyze data with _pandas_. In addition you will be able to navigate Jupyter Notebook and share code, explanations, and visualizations to others in notebook form. When we start working with machine learning in two weeks, your experience with _pandas_, Jupyter, and git will allow you to focus on applying, rather than debugging, ML models.\n",
    "\n",
    "## Grading\n",
    "\n",
    "The tasks in this assignment will be graded for completion when you turn it in via git. However during the lab the TAs will also check off the various tasks as indicated.  Don't worry about being any more precise than we ask. Do worry about learning _pandas_ well though. We will use it a lot!"
   ]
  },
  {
   "cell_type": "markdown",
   "metadata": {
    "nbgrader": {
     "grade": false,
     "grade_id": "cell-744917df3b3f059d",
     "locked": true,
     "schema_version": 1,
     "solution": false
    }
   },
   "source": [
    "## Part 0: Preliminaries \n",
    "You should have already used the [DATA 1030 Software Setup Guide](https://docs.google.com/a/brown.edu/document/d/1-be-XHwFqKFYyOXjDbW6WAiG8OERUl_nYNmYqVWzn1o/edit?usp=sharing) to install Anaconda, Python and and create GitHub account.\n",
    "\n",
    "Once you’ve created your GitHub account, go to this link:\n",
    "https://classroom.github.com/a/5zUwy6c7 \n",
    "This will create a private DATA1030 classroom repository that you have write access to.\n",
    "Today, only one person per pair needs to create a repository, but going forward, everyone will need to private DATA1030 classroom repository.\n",
    "\n",
    "In order to download this lab, open `Terminal or cmd.exe` and run the following:\n",
    "\n",
    "`\n",
    "cd ~/Desktop # Goes to your Desktop directory\n",
    "mkdir data1030 \n",
    "cd data1030 \n",
    "git clone https://github.com/data1030/a0-intro-<YOUR_GITHUB_USERNAME>.git\n",
    "cd a0-intro-<YOUR_USERNAME>\n",
    "jupyter notebook # Opens the notebook in your browser\n",
    "`"
   ]
  },
  {
   "cell_type": "markdown",
   "metadata": {
    "nbgrader": {
     "grade": false,
     "grade_id": "cell-45410a0be0f29bf4",
     "locked": true,
     "schema_version": 1,
     "solution": false
    }
   },
   "source": [
    "### 0.1: Getting started with Jupyter Notebook\n",
    "\n",
    "Begin by touring the Notebook UI. Click on __Help__ > __User Interface Tour__ in the toolbar above to begin.\n",
    "\n",
    "You can also reference this GIF from [DataCamp](https://www.datacamp.com/), to get a basic understanding of how to use the notebook.\n",
    "<img alt=\"Overview of the Jupyter Interface\" src=\"http://community.datacamp.com.s3.amazonaws.com/community/production/ckeditor_assets/pictures/200/content_jupyternotebook3b.gif\" style=\"width: 800px; height: 279px;\">\n",
    "\n",
    "In Jupyter Notebook, you can write and run Python cells as if you were in a Python Interpreter. In addition, you can structure your code in modular cells and run all the cells as if the notebook were a .py script.\n",
    "\n",
    "Finally, you can also create and run Markdown cells like this one. Try double clicking on this cell and then running it. See the instructions above and right below for more details on running cells"
   ]
  },
  {
   "cell_type": "markdown",
   "metadata": {
    "nbgrader": {
     "grade": false,
     "grade_id": "cell-6878865658774ef3",
     "locked": true,
     "schema_version": 1,
     "solution": false
    }
   },
   "source": [
    "## Part 1: Exploring Data with DataFrames\n",
    "\n",
    "Congratulations, you have gotten the notebook to run. Run the cell below by first clicking on the cell below, and the clicking the run button (>|) on the toolbar above. It should print \"Hello World!\""
   ]
  },
  {
   "cell_type": "code",
   "execution_count": null,
   "metadata": {
    "collapsed": true,
    "nbgrader": {
     "grade": false,
     "grade_id": "cell-da036e6f2b1a9761",
     "locked": true,
     "schema_version": 1,
     "solution": false
    }
   },
   "outputs": [],
   "source": [
    "print(\"Hello World!\")"
   ]
  },
  {
   "cell_type": "markdown",
   "metadata": {
    "nbgrader": {
     "grade": false,
     "grade_id": "cell-8ba97fa6cfaa7427",
     "locked": true,
     "schema_version": 1,
     "solution": false
    },
    "raw_mimetype": "text/markdown"
   },
   "source": [
    "### 1.0 Contextualizing data\n",
    "\n",
    "The first dataset we will be looking at relates to youth unemployment. We originally downloaded this data from  [Kaggle.com](https://www.kaggle.com/sovannt/world-bank-youth-unemployment) and scroll down to the dataset description for more details. \n",
    "\n",
    "__Task 0:__ What is their definition of youth? What years are we looking at?  Where is the data from originally?\n",
    "\n",
    "### 1.1 Reading data\n",
    "\n",
    "Data is often stored in comma-separated values (CSV) files. We have downloaded the unemployment data into the file `API_ILO_country_YU.csv` for you.\n",
    "\n",
    "To read a CSV file called `my_data.csv` with into a dataframe variable called df using pandas we would run the following command\n",
    "```\n",
    "df = pandas.read_csv('my_data.csv')\n",
    "```\n",
    "\n",
    "__Task 1:__ Load the unemployment data in the above file to a variable called `df` below. If no error shows up, your DataFrame most likely has loaded."
   ]
  },
  {
   "cell_type": "code",
   "execution_count": null,
   "metadata": {
    "collapsed": true,
    "nbgrader": {
     "grade": true,
     "grade_id": "cell-4d6ca01abde093d1",
     "locked": false,
     "points": 0,
     "schema_version": 1,
     "solution": true
    }
   },
   "outputs": [],
   "source": [
    "import pandas\n",
    "# TASK 1\n",
    "### BEGIN SOLUTION\n",
    "df = pandas.read_csv('API_ILO_country_YU.csv')\n",
    "### END SOLUTION"
   ]
  },
  {
   "cell_type": "markdown",
   "metadata": {
    "nbgrader": {
     "grade": false,
     "grade_id": "cell-d2d9d36323e8edeb",
     "locked": true,
     "schema_version": 1,
     "solution": false
    }
   },
   "source": [
    "### 1.2 Viewing data\n",
    "\n",
    "Congrats. You've successfully loaded the data into an object instance variable called `df`.\n",
    "\n",
    "Run each of these `DataFrame` methods in the cell below one-at-a-time. What do they do?\n",
    "\n",
    "    DataFrame\n",
    "    DataFrame.columns\n",
    "    DataFrame.head()\n",
    "    DataFrame.head(10)\n",
    "    DataFrame.tail(4)\n",
    "    DataFrame.nlargest(5, '2014')\n",
    "    DataFrame.nsmallest(8, '2011')\n",
    "    \n",
    "What get printed if you run 2 expressions in the same block?"
   ]
  },
  {
   "cell_type": "code",
   "execution_count": null,
   "metadata": {
    "collapsed": true,
    "nbgrader": {
     "grade": true,
     "grade_id": "cell-97fab88d45eccfc4",
     "locked": false,
     "points": 0,
     "schema_version": 1,
     "solution": true
    },
    "scrolled": false
   },
   "outputs": [],
   "source": [
    "# Run the methods here\n",
    "df"
   ]
  },
  {
   "cell_type": "markdown",
   "metadata": {
    "nbgrader": {
     "grade": false,
     "grade_id": "cell-371e2fffe4339ded",
     "locked": true,
     "schema_version": 1,
     "solution": false
    }
   },
   "source": [
    "Now that you know what these functions do, complete the following task.\n",
    "\n",
    "__Task 2:__ Show the 12 countries with the highest unemployment rates in 2013."
   ]
  },
  {
   "cell_type": "code",
   "execution_count": null,
   "metadata": {
    "collapsed": true,
    "nbgrader": {
     "grade": true,
     "grade_id": "cell-6eb9ad6f31429bee",
     "locked": false,
     "points": 0,
     "schema_version": 1,
     "solution": true
    }
   },
   "outputs": [],
   "source": [
    "# TASK 2\n",
    "### BEGIN SOLUTION\n",
    "df.nlargest(12, '2013')\n",
    "### END SOLUTION"
   ]
  },
  {
   "cell_type": "markdown",
   "metadata": {
    "nbgrader": {
     "grade": false,
     "grade_id": "cell-5ca284a6794c553d",
     "locked": true,
     "schema_version": 1,
     "solution": false
    }
   },
   "source": [
    "### 1.3 Transforming data\n",
    "\n",
    "With DataFrames we can also do things like select\n",
    "rows and columns. What do the following expressions\n",
    "evaluate to?\n",
    "\n",
    "#### Column selection:\n",
    "    \n",
    "    df['2010']\n",
    "    df[['Country Name', '2011', '2012']]\n",
    "    df.iloc[:, 3] # Gets all the rows in the 4th column\n",
    "    df.iloc[:, 2:5]\n",
    "    \n",
    "#### Row selection:\n",
    "    \n",
    "    df.iloc[191] # Gets the 192nd row\n",
    "    df.iloc[2:10]\n",
    "    df[df['2010'] > 40]\n",
    "    \n",
    "#### Combinations:\n",
    "\n",
    "    df.iloc[12:14, 0:4]\n",
    "    df[['Country Name', '2011', '2012']][df['2012'] < 10]\n",
    "    df[df['2012'] < 10].iloc[1:3, 2:5]"
   ]
  },
  {
   "cell_type": "code",
   "execution_count": null,
   "metadata": {
    "collapsed": true,
    "nbgrader": {
     "grade": true,
     "grade_id": "cell-601c068bccd21ddd",
     "locked": false,
     "points": 0,
     "schema_version": 1,
     "solution": true
    },
    "scrolled": true
   },
   "outputs": [],
   "source": [
    "# Run the expressions here\n",
    "df['2010']"
   ]
  },
  {
   "cell_type": "markdown",
   "metadata": {
    "nbgrader": {
     "grade": false,
     "grade_id": "cell-71f80d058b48aa7f",
     "locked": true,
     "schema_version": 1,
     "solution": false
    }
   },
   "source": [
    "__TA Check 1__: Raise your hand and a TA will come over to check your understanding of the above commands."
   ]
  },
  {
   "cell_type": "markdown",
   "metadata": {
    "nbgrader": {
     "grade": false,
     "grade_id": "cell-9b42e843dc7c7b9b",
     "locked": true,
     "schema_version": 1,
     "solution": false
    }
   },
   "source": [
    "__Task 3:__ Show the `Country Name` and `Country Code` of all countries where\n",
    "\n",
    "* the 2010 unemployment rate is higher than the 2014 unemployment rate, and\n",
    "* the 2014 unemployment rate is above 20%"
   ]
  },
  {
   "cell_type": "code",
   "execution_count": null,
   "metadata": {
    "collapsed": true,
    "nbgrader": {
     "grade": true,
     "grade_id": "cell-b4a15d9099e5b78b",
     "locked": false,
     "points": 0,
     "schema_version": 1,
     "solution": true
    }
   },
   "outputs": [],
   "source": [
    "# TASK 3\n",
    "### BEGIN SOLUTION\n",
    "decreasing_df = df[df['2010'] > df['2014']]\n",
    "decreasing_df[decreasing_df['2014'] > 20]\n",
    "### END SOLUTION"
   ]
  },
  {
   "cell_type": "markdown",
   "metadata": {
    "nbgrader": {
     "grade": false,
     "grade_id": "cell-37805ad1a707bcf1",
     "locked": true,
     "schema_version": 1,
     "solution": false
    }
   },
   "source": [
    "Now it is time to see more powerful features of DataFrames.\n",
    "You can add, subtract, multiply, and divide columns as shown below\n",
    "\n",
    "`df['2010'] + df['2012']`\n",
    "\n",
    "You can easily add a new column to the dataframe called using the following syntax:\n",
    "\n",
    "`df['new_col'] = df['2010'] + df['2012'] # add a column to df called new_col`\n",
    "\n",
    "__Task 4:__ Display the names of the 10 countries with the smallest percentage decrease in unemployment between 2011 and 2012. "
   ]
  },
  {
   "cell_type": "code",
   "execution_count": null,
   "metadata": {
    "collapsed": true,
    "nbgrader": {
     "grade": true,
     "grade_id": "cell-f077052c551ba443",
     "locked": false,
     "points": 0,
     "schema_version": 1,
     "solution": true
    }
   },
   "outputs": [],
   "source": [
    "# TASK 4\n",
    "### BEGIN SOLUTION\n",
    "df.loc[(df['2012'] - df['2011']).nsmallest(10).index]\n",
    "### END SOLUTION"
   ]
  },
  {
   "cell_type": "markdown",
   "metadata": {
    "nbgrader": {
     "grade": false,
     "grade_id": "cell-5bc2840af935ee54",
     "locked": true,
     "schema_version": 1,
     "solution": false
    }
   },
   "source": [
    "### 1.4 Visualizing data\n",
    "\n",
    "Our eyes are great at seeing patterns. Let's make some graphs to visualize and better understand the data. Run the code block below.  Notebook commands that start with % are called \"magic\" commands.  Make sure to run the \"magic\" %matplotlib command below in future labs so your visualizations show up in the browser. Here is a [spellbook](http://ipython.readthedocs.io/en/stable/interactive/magics.html)."
   ]
  },
  {
   "cell_type": "code",
   "execution_count": null,
   "metadata": {
    "collapsed": true,
    "nbgrader": {
     "grade": false,
     "grade_id": "cell-4e7ba363af0cebd7",
     "locked": true,
     "schema_version": 1,
     "solution": false
    }
   },
   "outputs": [],
   "source": [
    "%matplotlib inline\n",
    "\n",
    "df.plot(kind='bar')"
   ]
  },
  {
   "cell_type": "markdown",
   "metadata": {
    "nbgrader": {
     "grade": false,
     "grade_id": "cell-335784ab93847746",
     "locked": true,
     "schema_version": 1,
     "solution": false
    }
   },
   "source": [
    "__Task 5:__ There's clearly too many rows being graphed. In a new bar chart below, show only the first 10 countries, bars corresponding to the years 2010 to 2014 and label the x-axis by country name.\n",
    "\n",
    "Read [`pandas.DataFrame.plot`](https://pandas.pydata.org/pandas-docs/stable/generated/pandas.DataFrame.plot.html)\n",
    "for information on how to do the above task."
   ]
  },
  {
   "cell_type": "code",
   "execution_count": null,
   "metadata": {
    "collapsed": true,
    "nbgrader": {
     "grade": true,
     "grade_id": "cell-4bc553bc304deeeb",
     "locked": false,
     "points": 0,
     "schema_version": 1,
     "solution": true
    }
   },
   "outputs": [],
   "source": [
    "# TASK 5\n",
    "### BEGIN SOLUTION\n",
    "df.loc[0:10, ['Country Name', '2010', '2011', '2012', '2013', '2014']].plot(kind='bar', x='Country Name')\n",
    "### END SOLUTION"
   ]
  },
  {
   "cell_type": "markdown",
   "metadata": {
    "nbgrader": {
     "grade": false,
     "grade_id": "cell-19ea8d05591373a6",
     "locked": true,
     "schema_version": 1,
     "solution": false
    }
   },
   "source": [
    "__Task 6:__ Use the `.plot` method again to see how unemployment in 2010 relates to unemployment in 2014 for each country.\n",
    "\n",
    "Hint: What kind of chart would you use?"
   ]
  },
  {
   "cell_type": "code",
   "execution_count": null,
   "metadata": {
    "collapsed": true,
    "nbgrader": {
     "grade": true,
     "grade_id": "cell-b737b5d4a59b23e2",
     "locked": false,
     "points": 0,
     "schema_version": 1,
     "solution": true
    }
   },
   "outputs": [],
   "source": [
    "# TASK 6\n",
    "### BEGIN SOLUTION\n",
    "df.plot(kind='scatter', x='2010', y='2014')\n",
    "### END SOLUTION"
   ]
  },
  {
   "cell_type": "markdown",
   "metadata": {
    "nbgrader": {
     "grade": false,
     "grade_id": "cell-e4126b30b2a3099d",
     "locked": true,
     "schema_version": 1,
     "solution": false
    }
   },
   "source": [
    "### 1.5 Exploring data independently\n",
    "\n",
    "__Task 7-10:__ Use any combination of the above techniques and others (see the __Pandas Summary__) to answer the 5 questions below. You can also use your cheat sheet and the [docs](http://pandas.pydata.org/pandas-docs/stable/) aid you.\n",
    "\n",
    "Do comment about any ambiguities and issues you have with the question statement or your solution to the problem in the corresponding Python block."
   ]
  },
  {
   "cell_type": "markdown",
   "metadata": {
    "nbgrader": {
     "grade": false,
     "grade_id": "cell-b38df8872126442c",
     "locked": true,
     "schema_version": 1,
     "solution": false
    }
   },
   "source": [
    "_What is the average unemployment rate for each year?_"
   ]
  },
  {
   "cell_type": "code",
   "execution_count": null,
   "metadata": {
    "collapsed": true,
    "nbgrader": {
     "grade": true,
     "grade_id": "cell-697a780fdb78d20c",
     "locked": false,
     "points": 0,
     "schema_version": 1,
     "solution": true
    }
   },
   "outputs": [],
   "source": [
    "# <-- Start the line with a \"hashtag\" to write comments in Python\n",
    "# TASK 7\n",
    "### BEGIN SOLUTION\n",
    "df.mean()\n",
    "### END SOLUTION"
   ]
  },
  {
   "cell_type": "markdown",
   "metadata": {
    "nbgrader": {
     "grade": false,
     "grade_id": "cell-6a88558ae43d5264",
     "locked": true,
     "schema_version": 1,
     "solution": false
    }
   },
   "source": [
    "_Which countries underwent the greatest increase in unemployment during this time?_"
   ]
  },
  {
   "cell_type": "code",
   "execution_count": null,
   "metadata": {
    "collapsed": true,
    "nbgrader": {
     "grade": true,
     "grade_id": "cell-1bf45dd04223c09f",
     "locked": false,
     "points": 0,
     "schema_version": 1,
     "solution": true
    }
   },
   "outputs": [],
   "source": [
    "# TASK 8\n",
    "### BEGIN SOLUTION\n",
    "df.loc[(df['2014'] - df['2010']).nlargest(12).index] # We avoid mutation with lots of ugliness\n",
    "### END SOLUTION"
   ]
  },
  {
   "cell_type": "markdown",
   "metadata": {
    "nbgrader": {
     "grade": false,
     "grade_id": "cell-47bf846a696adf8b",
     "locked": true,
     "schema_version": 1,
     "solution": false
    }
   },
   "source": [
    "_In which countries would you not recommend a 20-year-old try to find a job?_"
   ]
  },
  {
   "cell_type": "code",
   "execution_count": null,
   "metadata": {
    "collapsed": true,
    "nbgrader": {
     "grade": true,
     "grade_id": "cell-44ca533d1237b0aa",
     "locked": false,
     "points": 0,
     "schema_version": 1,
     "solution": true
    }
   },
   "outputs": [],
   "source": [
    "# TASK 9\n",
    "### BEGIN SOLUTION\n",
    "df.nlargest(10, '2014')\n",
    "### END SOLUTION"
   ]
  },
  {
   "cell_type": "markdown",
   "metadata": {
    "nbgrader": {
     "grade": false,
     "grade_id": "cell-bb5b36780309825b",
     "locked": true,
     "schema_version": 1,
     "solution": false
    }
   },
   "source": [
    "_Do you think Arab Springs caused youth unemployment or youth unemployment led to Arab Springs?_"
   ]
  },
  {
   "cell_type": "code",
   "execution_count": null,
   "metadata": {
    "collapsed": true,
    "nbgrader": {
     "grade": true,
     "grade_id": "cell-5fa18ccbffa5b11e",
     "locked": false,
     "points": 0,
     "schema_version": 1,
     "solution": true
    }
   },
   "outputs": [],
   "source": [
    "# TASK 10\n",
    "### BEGIN SOLUTION\n",
    "df.iloc[3:4, 1:7].plot(kind='bar')\n",
    "### END SOLUTION"
   ]
  },
  {
   "cell_type": "markdown",
   "metadata": {
    "nbgrader": {
     "grade": false,
     "grade_id": "cell-8eda21791e0c8ff0",
     "locked": true,
     "schema_version": 1,
     "solution": false
    }
   },
   "source": [
    "__TA Check 2:__ When you are ready, a TA will come over to review your work.\n",
    "\n",
    "### 1.6 Foreshadowing\n",
    "\n",
    "With you partner reflect on this first analysis by discussing these questions.\n",
    "\n",
    "1. How do you think the data was collected? What data collection errors could have led you to wrong insights?\n",
    "2. Did you think that the data could be structured better? Were all of the strings in the country name column actually countries?\n",
    "3. Did you ever feel like you needed to make your code run faster? In what scenario would you try to optimize code execution time?\n",
    "4. How could you analyze this data more in depth. Would you want to create an interpretable model or an accurate model?\n",
    "5. What would you do if you needed to share your work with others? How would you make your code more readable to another data scientist?"
   ]
  },
  {
   "cell_type": "markdown",
   "metadata": {
    "nbgrader": {
     "grade": false,
     "grade_id": "cell-296be5f11e26dbf5",
     "locked": true,
     "schema_version": 1,
     "solution": false
    }
   },
   "source": [
    "## Handing In\n",
    "\n",
    "Congratulations, you are now done with the Part 1 of this lab.  Create a file called `LAB-AUTHORS.md` with both of your full names in there and add it to your local repository, then commit all your work to one partner’s DATA1030 GitHub forks using git:\n",
    "\n",
    "`\n",
    "git add LAB-AUTHORS.md\n",
    "git commit -m “Completed lab 1”\n",
    "git push origin master\n",
    "`\n",
    "\n",
    "You can check that your updates worked by going to `a0-intro-<YOUR_GITHUB_ID>` at https://github.com/data1030.## and checking the files dates (they should that they were just updated) and by examining their content."
   ]
  },
  {
   "cell_type": "markdown",
   "metadata": {
    "nbgrader": {
     "grade": false,
     "grade_id": "cell-17f920e9025fb8b4",
     "locked": true,
     "schema_version": 1,
     "solution": false
    }
   },
   "source": [
    "## Part 2 (Optional) \n",
    "If you have time, try out Part 2, an analysis of a shopping dataset with 3 million rows from Instacart, a grocery delivering start up. Instructions are in the notebook `part2.ipynb`."
   ]
  },
  {
   "cell_type": "markdown",
   "metadata": {
    "nbgrader": {
     "grade": false,
     "grade_id": "cell-c8bf6faa570007ef",
     "locked": true,
     "schema_version": 1,
     "solution": false
    }
   },
   "source": [
    "## Pandas Summary\n",
    "\n",
    "In today's lab we learned how to use _pandas_ in Jupyter Notebook through data analysis. We went through the entire process of processing the data to doing some basic analysis.\n",
    "\n",
    "Below is a list of some important _pandas_ functions, many of which we used today.\n",
    "\n",
    "### Pandas\n",
    "\n",
    "#### Modules\n",
    "\n",
    "    import pandas as pd\n",
    "\n",
    "#### I/O\n",
    "\n",
    "    pd.read_csv()\n",
    "    df.to_csv()\n",
    "\n",
    "#### Indexing\n",
    "\n",
    "    df[column_name]\n",
    "    df[[column1, column2, ...]]\n",
    "    df.iloc[a:b,c:d]\n",
    "    df[boolean condition]\n",
    "\n",
    "#### Exploration\n",
    "\n",
    "    df.describe()\n",
    "    df.plot()"
   ]
  },
  {
   "cell_type": "markdown",
   "metadata": {
    "nbgrader": {
     "grade": false,
     "grade_id": "cell-3869a56f11167a38",
     "locked": true,
     "schema_version": 1,
     "solution": false
    }
   },
   "source": [
    "## Power Jupyter \n",
    "[Here](https://www.dataquest.io/blog/jupyter-notebook-tips-tricks-shortcuts/) is a great link to Jupyter power user tips and tricks. The commands below add a lot of interesting notebook extensions."
   ]
  },
  {
   "cell_type": "code",
   "execution_count": null,
   "metadata": {
    "collapsed": true,
    "nbgrader": {
     "grade": false,
     "grade_id": "cell-1cd4553049433807",
     "locked": true,
     "schema_version": 1,
     "solution": false
    }
   },
   "outputs": [],
   "source": [
    "!pip install https://github.com/ipython-contrib/jupyter_contrib_nbextensions/tarball/master\n",
    "!pip install jupyter_nbextensions_configurator\n",
    "!jupyter contrib nbextension install --user --skip-running-check\n",
    "!jupyter nbextensions_configurator enable --user"
   ]
  }
 ],
 "metadata": {
  "celltoolbar": "Create Assignment",
  "kernelspec": {
   "display_name": "Python 3",
   "language": "python",
   "name": "python3"
  },
  "language_info": {
   "codemirror_mode": {
    "name": "ipython",
    "version": 3
   },
   "file_extension": ".py",
   "mimetype": "text/x-python",
   "name": "python",
   "nbconvert_exporter": "python",
   "pygments_lexer": "ipython3",
   "version": "3.6.1"
  },
  "toc": {
   "nav_menu": {},
   "number_sections": true,
   "sideBar": false,
   "skip_h1_title": false,
   "toc_cell": false,
   "toc_position": {
    "height": "303px",
    "left": "2px",
    "right": "20px",
    "top": "106px",
    "width": "212px"
   },
   "toc_section_display": "block",
   "toc_window_display": false
  }
 },
 "nbformat": 4,
 "nbformat_minor": 2
}
