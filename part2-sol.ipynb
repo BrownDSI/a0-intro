{
 "cells": [
  {
   "cell_type": "markdown",
   "metadata": {
    "nbgrader": {
     "grade": false,
     "grade_id": "cell-55049b5e8ecaecfc",
     "locked": true,
     "schema_version": 1,
     "solution": false
    }
   },
   "source": [
    "## Part 2: Instacart Orders\n",
    "\n",
    "Instacart is a startup in the grocery delivery business. It uses machine learning to personalize its web application. Download their 3 million row dataset from the link [here](https://www.instacart.com/datasets/grocery-shopping-2017).\n",
    "\n",
    "Then move the downloaded file to the same directory as this notebook and unzip it."
   ]
  },
  {
   "cell_type": "code",
   "execution_count": null,
   "metadata": {
    "collapsed": true,
    "nbgrader": {
     "grade": false,
     "grade_id": "cell-444c7482ccc426c7",
     "locked": true,
     "schema_version": 1,
     "solution": false
    }
   },
   "outputs": [],
   "source": [
    "import pandas as pd"
   ]
  },
  {
   "cell_type": "markdown",
   "metadata": {
    "nbgrader": {
     "grade": false,
     "grade_id": "cell-e8977bcb9a5c8550",
     "locked": true,
     "schema_version": 1,
     "solution": false
    }
   },
   "source": [
    "__Task 11:__ Once unzipped, the data will be in a folder called `instacart_2017_05_01/`. Without moving out any of the files within the folder, load the data in `orders.csv` to a DataFrame."
   ]
  },
  {
   "cell_type": "code",
   "execution_count": null,
   "metadata": {
    "nbgrader": {
     "grade": true,
     "grade_id": "cell-f637998a23911c00",
     "locked": false,
     "points": 0,
     "schema_version": 1,
     "solution": true
    },
    "scrolled": true
   },
   "outputs": [],
   "source": [
    "### BEGIN SOLUTION\n",
    "dataframe = pd.read_csv('instacart_2017_05_01/orders.csv')\n",
    "### END SOLUTION"
   ]
  },
  {
   "cell_type": "markdown",
   "metadata": {
    "nbgrader": {
     "grade": false,
     "grade_id": "cell-90841694ab0be868",
     "locked": true,
     "schema_version": 1,
     "solution": false
    }
   },
   "source": [
    "Most spreadsheet viewers do not allow you to view so much data. Excel can still help, but you'll need _pandas_ to analyze this data.\n",
    "\n",
    "__Task 12:__ What does the `.describe()` method tell us about the dataset? Do people order earlier or later during the week?"
   ]
  },
  {
   "cell_type": "code",
   "execution_count": null,
   "metadata": {
    "nbgrader": {
     "grade": true,
     "grade_id": "cell-baadff5316c08245",
     "locked": false,
     "points": 0,
     "schema_version": 1,
     "solution": true
    }
   },
   "outputs": [],
   "source": [
    "### BEGIN SOLUTION\n",
    "dataframe.describe()\n",
    "### END SOLUTION"
   ]
  },
  {
   "cell_type": "markdown",
   "metadata": {
    "nbgrader": {
     "grade": false,
     "grade_id": "cell-3cacc18ef374cdf4",
     "locked": true,
     "schema_version": 1,
     "solution": false
    }
   },
   "source": [
    "__Task 13:__ How many rows contain null values?"
   ]
  },
  {
   "cell_type": "code",
   "execution_count": null,
   "metadata": {
    "nbgrader": {
     "grade": true,
     "grade_id": "cell-e3f99b05c6daea2d",
     "locked": false,
     "points": 0,
     "schema_version": 1,
     "solution": true
    }
   },
   "outputs": [],
   "source": [
    "### BEGIN SOLUTION\n",
    "len(dataframe) - len(dataframe.dropna())\n",
    "### END SOLUTION"
   ]
  },
  {
   "cell_type": "markdown",
   "metadata": {
    "nbgrader": {
     "grade": false,
     "grade_id": "cell-5ec38590267ea881",
     "locked": true,
     "schema_version": 1,
     "solution": false
    }
   },
   "source": [
    "__Extra Task:__ Can you figure out what people are eating at different times of the week? Or how people with different order sizes eat differently? Analyze the data and learn something about how others order food online."
   ]
  },
  {
   "cell_type": "code",
   "execution_count": null,
   "metadata": {
    "collapsed": true,
    "nbgrader": {
     "grade": true,
     "grade_id": "cell-119974287ece7b53",
     "locked": false,
     "points": 0,
     "schema_version": 1,
     "solution": true
    }
   },
   "outputs": [],
   "source": []
  },
  {
   "cell_type": "markdown",
   "metadata": {
    "nbgrader": {
     "grade": false,
     "grade_id": "cell-d139bcf5be634542",
     "locked": true,
     "schema_version": 1,
     "solution": false
    }
   },
   "source": [
    "See if you can try out every operation on the _pandas_ cheat sheet. In particular, familiarizing yourself with the `.groupby` and `.merge` methods will help you a lot in this course and in the future."
   ]
  }
 ],
 "metadata": {
  "celltoolbar": "Create Assignment",
  "kernelspec": {
   "display_name": "Python 3",
   "language": "python",
   "name": "python3"
  },
  "language_info": {
   "codemirror_mode": {
    "name": "ipython",
    "version": 3
   },
   "file_extension": ".py",
   "mimetype": "text/x-python",
   "name": "python",
   "nbconvert_exporter": "python",
   "pygments_lexer": "ipython3",
   "version": "3.6.1"
  }
 },
 "nbformat": 4,
 "nbformat_minor": 2
}
